{
 "cells": [
  {
   "cell_type": "code",
   "execution_count": 1,
   "metadata": {},
   "outputs": [],
   "source": [
    "import psycopg2\n",
    "import pandas as pd\n",
    "import sqlalchemy\n",
    "from sqlalchemy import create_engine\n",
    "import pandas as pd"
   ]
  },
  {
   "cell_type": "code",
   "execution_count": 2,
   "metadata": {},
   "outputs": [],
   "source": [
    "state_abbreviations = pd.read_csv('state_abbreviations.csv')"
   ]
  },
  {
   "cell_type": "code",
   "execution_count": 3,
   "metadata": {},
   "outputs": [
    {
     "data": {
      "text/html": [
       "<div>\n",
       "<style scoped>\n",
       "    .dataframe tbody tr th:only-of-type {\n",
       "        vertical-align: middle;\n",
       "    }\n",
       "\n",
       "    .dataframe tbody tr th {\n",
       "        vertical-align: top;\n",
       "    }\n",
       "\n",
       "    .dataframe thead th {\n",
       "        text-align: right;\n",
       "    }\n",
       "</style>\n",
       "<table border=\"1\" class=\"dataframe\">\n",
       "  <thead>\n",
       "    <tr style=\"text-align: right;\">\n",
       "      <th></th>\n",
       "      <th>State</th>\n",
       "      <th>Total Cases</th>\n",
       "      <th>Total Deaths</th>\n",
       "      <th>Cases per million</th>\n",
       "      <th>Deaths per million</th>\n",
       "      <th>Tests</th>\n",
       "      <th>Tests per million</th>\n",
       "      <th>Total Population</th>\n",
       "    </tr>\n",
       "  </thead>\n",
       "  <tbody>\n",
       "    <tr>\n",
       "      <th>0</th>\n",
       "      <td>CA</td>\n",
       "      <td>2,345,657</td>\n",
       "      <td>26,294</td>\n",
       "      <td>59,365</td>\n",
       "      <td>665</td>\n",
       "      <td>33,058,311</td>\n",
       "      <td>836,660</td>\n",
       "      <td>39,512,223</td>\n",
       "    </tr>\n",
       "    <tr>\n",
       "      <th>1</th>\n",
       "      <td>TX</td>\n",
       "      <td>1,784,569</td>\n",
       "      <td>28,506</td>\n",
       "      <td>61,546</td>\n",
       "      <td>983</td>\n",
       "      <td>15,832,807</td>\n",
       "      <td>546,036</td>\n",
       "      <td>28,995,881</td>\n",
       "    </tr>\n",
       "    <tr>\n",
       "      <th>2</th>\n",
       "      <td>FL</td>\n",
       "      <td>1,323,315</td>\n",
       "      <td>21,673</td>\n",
       "      <td>61,613</td>\n",
       "      <td>1,009</td>\n",
       "      <td>15,703,599</td>\n",
       "      <td>731,157</td>\n",
       "      <td>21,477,737</td>\n",
       "    </tr>\n",
       "    <tr>\n",
       "      <th>3</th>\n",
       "      <td>NY</td>\n",
       "      <td>1,031,053</td>\n",
       "      <td>38,145</td>\n",
       "      <td>53,001</td>\n",
       "      <td>1,961</td>\n",
       "      <td>25,504,313</td>\n",
       "      <td>1,311,036</td>\n",
       "      <td>19,453,561</td>\n",
       "    </tr>\n",
       "    <tr>\n",
       "      <th>4</th>\n",
       "      <td>IL</td>\n",
       "      <td>970,590</td>\n",
       "      <td>18,173</td>\n",
       "      <td>76,594</td>\n",
       "      <td>1,434</td>\n",
       "      <td>13,374,665</td>\n",
       "      <td>1,055,465</td>\n",
       "      <td>12,671,821</td>\n",
       "    </tr>\n",
       "  </tbody>\n",
       "</table>\n",
       "</div>"
      ],
      "text/plain": [
       "  State Total Cases Total Deaths Cases per million Deaths per million  \\\n",
       "0    CA   2,345,657       26,294            59,365                665   \n",
       "1    TX   1,784,569       28,506            61,546                983   \n",
       "2    FL   1,323,315       21,673            61,613              1,009   \n",
       "3    NY   1,031,053       38,145            53,001              1,961   \n",
       "4    IL     970,590       18,173            76,594              1,434   \n",
       "\n",
       "        Tests Tests per million Total Population  \n",
       "0  33,058,311           836,660       39,512,223  \n",
       "1  15,832,807           546,036       28,995,881  \n",
       "2  15,703,599           731,157       21,477,737  \n",
       "3  25,504,313         1,311,036       19,453,561  \n",
       "4  13,374,665         1,055,465       12,671,821  "
      ]
     },
     "execution_count": 3,
     "metadata": {},
     "output_type": "execute_result"
    }
   ],
   "source": [
    "covid_cases = pd.read_csv(\"covid-cases-by-state.csv\")\n",
    "covid_cases = covid_cases[['State', 'Total Cases', 'Total Deaths', 'Cases per million', 'Deaths per million', 'Tests', 'Tests per million', 'Total Population']]\n",
    "covid_cases['State'].replace(state_abbreviations['State'].tolist(), state_abbreviations['Code'].tolist(), inplace=True)\n",
    "covid_cases.head()"
   ]
  },
  {
   "cell_type": "code",
   "execution_count": 4,
   "metadata": {
    "scrolled": true
   },
   "outputs": [
    {
     "data": {
      "text/html": [
       "<div>\n",
       "<style scoped>\n",
       "    .dataframe tbody tr th:only-of-type {\n",
       "        vertical-align: middle;\n",
       "    }\n",
       "\n",
       "    .dataframe tbody tr th {\n",
       "        vertical-align: top;\n",
       "    }\n",
       "\n",
       "    .dataframe thead th {\n",
       "        text-align: right;\n",
       "    }\n",
       "</style>\n",
       "<table border=\"1\" class=\"dataframe\">\n",
       "  <thead>\n",
       "    <tr style=\"text-align: right;\">\n",
       "      <th></th>\n",
       "      <th>Provider Name</th>\n",
       "      <th>State</th>\n",
       "      <th>City</th>\n",
       "      <th>Payment</th>\n",
       "    </tr>\n",
       "  </thead>\n",
       "  <tbody>\n",
       "    <tr>\n",
       "      <th>0</th>\n",
       "      <td>BRANDON ASTIN DMD LLC</td>\n",
       "      <td>AK</td>\n",
       "      <td>ANCHOR POINT</td>\n",
       "      <td>19003.0</td>\n",
       "    </tr>\n",
       "    <tr>\n",
       "      <th>1</th>\n",
       "      <td>ELIZABETH WATNEY</td>\n",
       "      <td>AK</td>\n",
       "      <td>ANCHOR POINT</td>\n",
       "      <td>724.0</td>\n",
       "    </tr>\n",
       "    <tr>\n",
       "      <th>2</th>\n",
       "      <td>A HAND UP BEHAVIOR SERVICES</td>\n",
       "      <td>AK</td>\n",
       "      <td>ANCHORAGE</td>\n",
       "      <td>1191.0</td>\n",
       "    </tr>\n",
       "    <tr>\n",
       "      <th>3</th>\n",
       "      <td>A JOINT EFFORT PHYSICAL THERAPY</td>\n",
       "      <td>AK</td>\n",
       "      <td>ANCHORAGE</td>\n",
       "      <td>11641.0</td>\n",
       "    </tr>\n",
       "    <tr>\n",
       "      <th>4</th>\n",
       "      <td>AA PAIN CLINIC, INC.</td>\n",
       "      <td>AK</td>\n",
       "      <td>ANCHORAGE</td>\n",
       "      <td>69976.0</td>\n",
       "    </tr>\n",
       "  </tbody>\n",
       "</table>\n",
       "</div>"
      ],
      "text/plain": [
       "                     Provider Name State          City  Payment\n",
       "0            BRANDON ASTIN DMD LLC    AK  ANCHOR POINT  19003.0\n",
       "1                 ELIZABETH WATNEY    AK  ANCHOR POINT    724.0\n",
       "2      A HAND UP BEHAVIOR SERVICES    AK     ANCHORAGE   1191.0\n",
       "3  A JOINT EFFORT PHYSICAL THERAPY    AK     ANCHORAGE  11641.0\n",
       "4             AA PAIN CLINIC, INC.    AK     ANCHORAGE  69976.0"
      ]
     },
     "execution_count": 4,
     "metadata": {},
     "output_type": "execute_result"
    }
   ],
   "source": [
    "prf = pd.read_csv(\"HHS_Provider_Relief_Fund.csv\")\n",
    "prf['Payment']=(prf['Payment'].replace( '[\\$,)]','', regex=True )\n",
    "                   .replace( '[(]','-',   regex=True ).astype(float))\n",
    "prf.head()\n"
   ]
  },
  {
   "cell_type": "code",
   "execution_count": 5,
   "metadata": {},
   "outputs": [],
   "source": [
    "payments_by_state = prf[['State', 'Payment']].groupby('State').sum()\n",
    "payments_by_state.reset_index(inplace=True)\n",
    "\n"
   ]
  },
  {
   "cell_type": "code",
   "execution_count": 6,
   "metadata": {},
   "outputs": [],
   "source": [
    "from config import local_db_user, local_db_pwd, local_db_endpoint, local_db_port, local_db_name"
   ]
  },
  {
   "cell_type": "code",
   "execution_count": 7,
   "metadata": {},
   "outputs": [],
   "source": [
    "# local Postgres DB Connection\n",
    "local_engine = create_engine(f\"postgresql://{local_db_user}:{local_db_pwd}@{local_db_endpoint}:{local_db_port}\")\n",
    "\n",
    "# Create a local database engine connection\n",
    "local_conn = local_engine.connect()\n",
    "\n",
    "# Create local database\n",
    "try:\n",
    "    local_conn.execution_options(isolation_level=\"AUTOCOMMIT\").execute(f\"CREATE DATABASE {local_db_name}\")\n",
    "except Exception as e:\n",
    "    print(e)\n",
    "    \n",
    "# Connect to local database\n",
    "try:\n",
    "    local_engine = create_engine(f\"postgresql://{local_db_user}:{local_db_pwd}@{local_db_endpoint}:{local_db_port}/{local_db_name}\")\n",
    "    local_conn = local_engine.connect()\n",
    "except Exception as e:\n",
    "    print(e)\n",
    "\n",
    "#confirm tables\n",
    "local_engine.table_names()\n",
    "\n",
    "#upload dataframe to database\n",
    "prf.to_sql(name='prf', if_exists='replace', con=local_conn, index=False)\n",
    "\n"
   ]
  },
  {
   "cell_type": "code",
   "execution_count": 8,
   "metadata": {},
   "outputs": [],
   "source": [
    "payments_by_state.to_sql(name='payments_by_state', if_exists='replace', con=local_conn, index=False)"
   ]
  },
  {
   "cell_type": "code",
   "execution_count": 11,
   "metadata": {},
   "outputs": [],
   "source": [
    "covid_cases.to_sql(name='covid_cases', if_exists='replace', con=local_conn, index=False)"
   ]
  },
  {
   "cell_type": "code",
   "execution_count": 9,
   "metadata": {},
   "outputs": [],
   "source": [
    "sql = \"\"\"\n",
    "ALTER TABLE payments_by_state ADD PRIMARY KEY (\"State\");\n",
    "\"\"\"\n",
    "with local_engine.begin() as conn:\n",
    "    conn.execute(sql)"
   ]
  },
  {
   "cell_type": "code",
   "execution_count": 10,
   "metadata": {},
   "outputs": [],
   "source": [
    "sql = \"\"\"\n",
    "ALTER TABLE prf \n",
    "ADD CONSTRAINT state_constraint \n",
    "FOREIGN KEY (\"State\") \n",
    "REFERENCES payments_by_state (\"State\");;\n",
    "\"\"\"\n",
    "with local_engine.begin() as conn:\n",
    "    conn.execute(sql)"
   ]
  },
  {
   "cell_type": "code",
   "execution_count": null,
   "metadata": {},
   "outputs": [],
   "source": []
  }
 ],
 "metadata": {
  "kernelspec": {
   "display_name": "Python 3",
   "language": "python",
   "name": "python3"
  },
  "language_info": {
   "codemirror_mode": {
    "name": "ipython",
    "version": 3
   },
   "file_extension": ".py",
   "mimetype": "text/x-python",
   "name": "python",
   "nbconvert_exporter": "python",
   "pygments_lexer": "ipython3",
   "version": "3.8.3"
  }
 },
 "nbformat": 4,
 "nbformat_minor": 4
}
